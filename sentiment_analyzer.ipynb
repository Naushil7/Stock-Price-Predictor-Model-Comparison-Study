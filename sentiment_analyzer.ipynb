{
 "cells": [
  {
   "cell_type": "markdown",
   "metadata": {},
   "source": [
    "## 1. Data Collection YF"
   ]
  },
  {
   "cell_type": "code",
   "execution_count": null,
   "metadata": {},
   "outputs": [],
   "source": [
    "import yfinance as yf\n",
    "import pandas as pd\n",
    "\n",
    "# Function to fetch Yahoo Finance news\n",
    "def fetch_yahoo_news(stock_symbol, news_count=10):\n",
    "    search_result = yf.Search(stock_symbol, news_count=news_count)\n",
    "    news_data = search_result.news  # Extract news list\n",
    "    \n",
    "    # Convert to DataFrame\n",
    "    df_check = pd.DataFrame(news_data)\n",
    "    df = pd.DataFrame(news_data)\n",
    "    \n",
    "    # Extract relevant columns\n",
    "    df = df[['title', 'publisher', 'link', 'providerPublishTime']]\n",
    "    \n",
    "    # Convert publish time to datetime format\n",
    "    df['providerPublishTime'] = pd.to_datetime(df['providerPublishTime'], unit='s')\n",
    "    \n",
    "    return df\n",
    "\n",
    "# Example: Fetch AAPL news\n",
    "stock_symbol = \"AAPL\"\n",
    "yahoo_news_df = fetch_yahoo_news(stock_symbol, news_count=10)\n",
    "\n",
    "# Display first few rows\n",
    "print(yahoo_news_df.head())\n",
    "\n",
    "# Save to Parquet for future use\n",
    "yahoo_news_df.to_parquet(\"./news_data/Yahoo_Finance_News.parquet\", index=False)"
   ]
  },
  {
   "cell_type": "markdown",
   "metadata": {},
   "source": [
    "## 2. Data Collection Google"
   ]
  },
  {
   "cell_type": "code",
   "execution_count": null,
   "metadata": {},
   "outputs": [],
   "source": [
    "\n",
    "from GoogleNews import GoogleNews\n",
    "import pandas as pd\n",
    "import dateparser\n",
    "\n",
    "# Function to convert relative dates into proper timestamps\n",
    "def convert_relative_time(relative_time):\n",
    "    return dateparser.parse(relative_time)\n",
    "\n",
    "# Function to fetch multiple pages of Google News headlines\n",
    "def fetch_google_news(stock_symbol, pages=5):\n",
    "    googlenews = GoogleNews(lang='en', region='US', period=\"1d\")\n",
    "    googlenews.search(stock_symbol)\n",
    "\n",
    "    all_results = []\n",
    "\n",
    "    # Iterate through multiple pages\n",
    "    for i in range(2, pages + 2):  # Start from page 2 to avoid duplicates\n",
    "        googlenews.getpage(i)\n",
    "        result = googlenews.result()\n",
    "        all_results.extend(result)\n",
    "\n",
    "    # Convert to DataFrame\n",
    "    df = pd.DataFrame(all_results)\n",
    "\n",
    "    # Keep only relevant columns\n",
    "    df = df[['title', 'media', 'link', 'date']]\n",
    "    # Filter only trusted news sources\n",
    "    trusted_sources = [\"Bloomberg\", \"CNBC\", \"Reuters\", \"Yahoo Finance\", \"MarketWatch\", \"WSJ\"]\n",
    "    df = df[df['media'].isin(trusted_sources)]\n",
    "    \n",
    "    return df\n",
    "\n",
    "# Example: Fetch Google News for AAPL (5 pages of results)\n",
    "google_news_df = fetch_google_news(\"AAPL\", pages=5)\n",
    "google_news_df['date'] = google_news_df['date'].apply(convert_relative_time)\n",
    "# Drop duplicates based on title and date\n",
    "google_news_df.drop_duplicates(subset=['title', 'link'], inplace=True)\n",
    "google_news_df.sort_values(by='date', ascending=False, inplace=True)\n",
    "# Save to Parquet for future use\n",
    "google_news_df.to_parquet(\"./news_data/Google_News.parquet\", index=False)"
   ]
  },
  {
   "cell_type": "markdown",
   "metadata": {},
   "source": [
    "## 3. Sentiment via NLTK(Vader) (YF & Google)"
   ]
  },
  {
   "cell_type": "code",
   "execution_count": null,
   "metadata": {},
   "outputs": [],
   "source": [
    "import pandas as pd\n",
    "from nltk.sentiment import SentimentIntensityAnalyzer\n",
    "import nltk\n",
    "\n",
    "# Download VADER if not already installed\n",
    "nltk.download('vader_lexicon')\n",
    "\n",
    "# Initialize Sentiment Analyzer\n",
    "sia = SentimentIntensityAnalyzer()"
   ]
  },
  {
   "cell_type": "code",
   "execution_count": null,
   "metadata": {},
   "outputs": [],
   "source": [
    "# Load the saved news data\n",
    "yf_news_data = pd.read_parquet(\"./news_data/Yahoo_Finance_News.parquet\")\n",
    "google_news_data = pd.read_parquet(\"./news_data/Google_News.parquet\")\n",
    "# Check the first few rows\n",
    "print(\"\\nYF News Data:\")\n",
    "print(yf_news_data.head())\n",
    "print(\"\\nGoogle News Data:\")\n",
    "print(google_news_data.head())"
   ]
  },
  {
   "cell_type": "code",
   "execution_count": null,
   "metadata": {},
   "outputs": [],
   "source": [
    "# Function to compute sentiment score\n",
    "def get_sentiment(text):\n",
    "    return sia.polarity_scores(text)['compound']\n",
    "\n",
    "# Apply sentiment analysis to news titles\n",
    "yf_news_data['sentiment_score'] = yf_news_data['title'].apply(get_sentiment)\n",
    "google_news_data['sentiment_score'] = google_news_data['title'].apply(get_sentiment)\n",
    "\n",
    "# Display the first few results\n",
    "print(\"YF Score:\\n\", yf_news_data[['title', 'sentiment_score']].head())\n",
    "print(\"\\nGoogle Score\\n\",google_news_data[['title', 'sentiment_score']].head())\n",
    "\n",
    "# Save to Parquet for future use\n",
    "yf_news_data.to_parquet(\"./news_data/Yahoo_Finance_News_with_Sentiment.parquet\", index=False)\n",
    "google_news_data.to_parquet(\"./news_data/Google_News_with_Sentiment.parquet\", index=False)"
   ]
  },
  {
   "cell_type": "code",
   "execution_count": null,
   "metadata": {},
   "outputs": [],
   "source": [
    "yf_news_data.isnull().sum()  # Check for null values"
   ]
  },
  {
   "cell_type": "code",
   "execution_count": null,
   "metadata": {},
   "outputs": [],
   "source": [
    "google_news_data.isnull().sum()  # Check for null values"
   ]
  }
 ],
 "metadata": {
  "kernelspec": {
   "display_name": ".venv",
   "language": "python",
   "name": "python3"
  },
  "language_info": {
   "codemirror_mode": {
    "name": "ipython",
    "version": 3
   },
   "file_extension": ".py",
   "mimetype": "text/x-python",
   "name": "python",
   "nbconvert_exporter": "python",
   "pygments_lexer": "ipython3",
   "version": "3.12.1"
  }
 },
 "nbformat": 4,
 "nbformat_minor": 2
}
