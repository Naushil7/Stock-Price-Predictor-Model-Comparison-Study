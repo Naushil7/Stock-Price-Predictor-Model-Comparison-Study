{
 "cells": [
  {
   "cell_type": "code",
   "execution_count": null,
   "metadata": {},
   "outputs": [],
   "source": [
    "%pip install snscrape"
   ]
  },
  {
   "cell_type": "markdown",
   "metadata": {},
   "source": [
    "## 1. Sentiment using Snscrape (X)"
   ]
  },
  {
   "cell_type": "code",
   "execution_count": null,
   "metadata": {},
   "outputs": [],
   "source": [
    "import snscrape.modules.twitter as sntwitter\n",
    "import pandas as pd\n",
    "\n",
    "# Function to scrape tweets\n",
    "def scrape_tweets(stock_symbol, count=10):\n",
    "    query = f\"{stock_symbol} stock since:2025-02-27\"\n",
    "    tweets = sntwitter.TwitterSearchScraper(query).get_items()\n",
    "    \n",
    "    tweet_list = [{\"text\": tweet.content, \"created_at\": tweet.date} for tweet in tweets]\n",
    "    return pd.DataFrame(tweet_list[:count])\n",
    "\n",
    "# Example: Fetch tweets for AAPL\n",
    "tweets_df = scrape_tweets(\"AAPL\", count=10)\n",
    "\n",
    "# Save to Parquet\n",
    "tweets_df.to_parquet(\"Twitter_News.parquet\", index=False)\n",
    "\n",
    "# Display first few tweets\n",
    "print(tweets_df.head())"
   ]
  },
  {
   "cell_type": "code",
   "execution_count": null,
   "metadata": {},
   "outputs": [],
   "source": []
  }
 ],
 "metadata": {
  "kernelspec": {
   "display_name": "Python 3",
   "language": "python",
   "name": "python3"
  },
  "language_info": {
   "codemirror_mode": {
    "name": "ipython",
    "version": 3
   },
   "file_extension": ".py",
   "mimetype": "text/x-python",
   "name": "python",
   "nbconvert_exporter": "python",
   "pygments_lexer": "ipython3",
   "version": "3.8.19"
  }
 },
 "nbformat": 4,
 "nbformat_minor": 2
}
