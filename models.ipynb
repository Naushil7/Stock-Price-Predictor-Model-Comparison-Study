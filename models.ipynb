{
 "cells": [
  {
   "cell_type": "markdown",
   "metadata": {},
   "source": [
    "## 1. Data Processing for Time-series with Lag Feature"
   ]
  },
  {
   "cell_type": "code",
   "execution_count": null,
   "metadata": {},
   "outputs": [],
   "source": [
    "import pandas as pd\n",
    "\n",
    "data = pd.read_parquet('./stock_data/Cleaned_Stock_Data.parquet')\n",
    "data_with_indicators = pd.read_parquet('./stock_data/Stock_Data_with_Indicators.parquet')"
   ]
  },
  {
   "cell_type": "code",
   "execution_count": null,
   "metadata": {},
   "outputs": [],
   "source": [
    "data.dtypes"
   ]
  },
  {
   "cell_type": "code",
   "execution_count": null,
   "metadata": {},
   "outputs": [],
   "source": [
    "# Create lag features (previous day's Close price)\n",
    "data['Close_Lag_1'] = data['Close'].shift(1)\n",
    "data['Close_Lag_2'] = data['Close'].shift(2)\n",
    "\n",
    "data_with_indicators['Close_Lag_1'] = data_with_indicators['Close'].shift(1)\n",
    "data_with_indicators['Close_Lag_2'] = data_with_indicators['Close'].shift(2)\n",
    "\n",
    "# Drop NaN values after shifting\n",
    "data.dropna(inplace=True)\n",
    "data_with_indicators.dropna(inplace=True)\n",
    "\n",
    "# Save processed data\n",
    "data.to_parquet(\"./stock_data/Processed_Stock_Data.parquet\")\n",
    "data_with_indicators.to_parquet(\"./stock_data/Processed_Stock_Data_with_Indicators.parquet\")"
   ]
  },
  {
   "cell_type": "markdown",
   "metadata": {},
   "source": [
    "## 3. Random Forest"
   ]
  },
  {
   "cell_type": "markdown",
   "metadata": {},
   "source": [
    "#### 3.1 Without Indicators"
   ]
  },
  {
   "cell_type": "code",
   "execution_count": null,
   "metadata": {},
   "outputs": [],
   "source": [
    "from sklearn.ensemble import RandomForestRegressor\n",
    "from sklearn.model_selection import train_test_split\n",
    "from sklearn.metrics import mean_absolute_error, mean_squared_error\n",
    "import numpy as np\n",
    "import pandas as pd\n",
    "\n",
    "# Load dataset without indicators\n",
    "data_no_ind = pd.read_parquet(\"./stock_data/Processed_Stock_Data.parquet\")\n",
    "\n",
    "# Split into features & target\n",
    "features = ['Close_Lag_1', 'Close_Lag_2', 'Volume']\n",
    "target = 'Close'\n",
    "\n",
    "# Train-test split (80% train, 20% test)\n",
    "train_X, test_X, train_y, test_y = train_test_split(data_no_ind[features], data_no_ind[target], test_size=0.2, shuffle=False)\n",
    "\n",
    "# Train Random Forest\n",
    "rf_no_ind = RandomForestRegressor(n_estimators=100, random_state=42)\n",
    "rf_no_ind.fit(train_X, train_y)\n",
    "\n",
    "# Predictions\n",
    "rf_no_ind_preds = rf_no_ind.predict(test_X)\n",
    "\n",
    "# Evaluate performance\n",
    "mae_no_ind = mean_absolute_error(test_y, rf_no_ind_preds)\n",
    "rmse_no_ind = np.sqrt(mean_squared_error(test_y, rf_no_ind_preds))\n",
    "\n",
    "print(f\"Random Forest (No Indicators) - MAE: {mae_no_ind:.4f}, RMSE: {rmse_no_ind:.4f}\")\n",
    "\n",
    "# Save predictions\n",
    "rf_no_ind_df = pd.DataFrame({\"Date\": test_X.index, \"Actual\": test_y, \"Predicted\": rf_no_ind_preds})\n",
    "rf_no_ind_df.to_parquet(\"./models/RandomForest_No_Indicators.parquet\", index=False)"
   ]
  },
  {
   "cell_type": "markdown",
   "metadata": {},
   "source": [
    "#### 3.2 With Indicators"
   ]
  },
  {
   "cell_type": "code",
   "execution_count": null,
   "metadata": {},
   "outputs": [],
   "source": [
    "# Load dataset with indicators\n",
    "data_with_ind = pd.read_parquet(\"./stock_data/Processed_Stock_Data_with_Indicators.parquet\")\n",
    "\n",
    "# Define features and target\n",
    "features_with_ind = ['Close_Lag_1', 'Close_Lag_2', 'Volume', 'RSI', 'EMA_10', 'SMA_10', 'MACD']\n",
    "\n",
    "# Train-test split\n",
    "train_X, test_X, train_y, test_y = train_test_split(data_with_ind[features_with_ind], data_with_ind[target], test_size=0.2, shuffle=False)\n",
    "\n",
    "# Train Random Forest\n",
    "rf_with_ind = RandomForestRegressor(n_estimators=100, random_state=42)\n",
    "rf_with_ind.fit(train_X, train_y)\n",
    "\n",
    "# Predictions\n",
    "rf_with_ind_preds = rf_with_ind.predict(test_X)\n",
    "\n",
    "# Evaluate performance\n",
    "mae_with_ind = mean_absolute_error(test_y, rf_with_ind_preds)\n",
    "rmse_with_ind = np.sqrt(mean_squared_error(test_y, rf_with_ind_preds))\n",
    "\n",
    "print(f\"Random Forest (With Indicators) - MAE: {mae_with_ind:.4f}, RMSE: {rmse_with_ind:.4f}\")\n",
    "\n",
    "# Save predictions\n",
    "rf_with_ind_df = pd.DataFrame({\"Date\": test_X.index, \"Actual\": test_y, \"Predicted\": rf_with_ind_preds})\n",
    "rf_with_ind_df.to_parquet(\"./models/RandomForest_With_Indicators.parquet\", index=False)"
   ]
  },
  {
   "cell_type": "markdown",
   "metadata": {},
   "source": [
    "#### 3.3 Results"
   ]
  },
  {
   "cell_type": "code",
   "execution_count": null,
   "metadata": {},
   "outputs": [],
   "source": [
    "# Compare MAE & RMSE\n",
    "print(\"\\nPerformance Comparison:\")\n",
    "print(f\"Random Forest (No Indicators) - MAE: {mae_no_ind:.4f}, RMSE: {rmse_no_ind:.4f}\")\n",
    "print(f\"Random Forest (With Indicators) - MAE: {mae_with_ind:.4f}, RMSE: {rmse_with_ind:.4f}\")\n",
    "\n",
    "# Which model performs better?\n",
    "if mae_with_ind < mae_no_ind:\n",
    "    print(\"Technical Indicators improved model accuracy!\")\n",
    "else:\n",
    "    print(\"Technical Indicators did not improve model accuracy.\")"
   ]
  },
  {
   "cell_type": "markdown",
   "metadata": {},
   "source": [
    "## 4. LSTM"
   ]
  },
  {
   "cell_type": "markdown",
   "metadata": {},
   "source": [
    "#### 1.1 LSTM without Indicators"
   ]
  },
  {
   "cell_type": "code",
   "execution_count": null,
   "metadata": {},
   "outputs": [],
   "source": [
    "import pandas as pd\n",
    "import numpy as np\n",
    "from sklearn.preprocessing import MinMaxScaler\n",
    "\n",
    "# Load dataset WITHOUT indicators\n",
    "data_no_ind = pd.read_parquet(\"./stock_data/Processed_Stock_Data.parquet\")\n",
    "\n",
    "# Define features and target\n",
    "features = ['Close_Lag_1', 'Close_Lag_2', 'Volume']\n",
    "target = 'Close'\n",
    "\n",
    "# Scale data between 0 and 1\n",
    "scaler = MinMaxScaler()\n",
    "data_no_ind[features] = scaler.fit_transform(data_no_ind[features])\n",
    "data_no_ind[target] = scaler.fit_transform(data_no_ind[[target]])\n",
    "\n",
    "# Convert to numpy arrays for LSTM\n",
    "X, y = data_no_ind[features].values, data_no_ind[target].values\n",
    "\n",
    "# Reshape data into 3D (samples, time steps, features)\n",
    "X = X.reshape((X.shape[0], 1, X.shape[1]))\n",
    "\n",
    "# Save preprocessed data\n",
    "np.save(\"./models/LSTM_X_No_Indicators.npy\", X)\n",
    "np.save(\"./models/LSTM_y_No_Indicators.npy\", y)\n",
    "\n",
    "print(f\"Data Shape for LSTM: {X.shape}, {y.shape}\")\n"
   ]
  },
  {
   "cell_type": "code",
   "execution_count": null,
   "metadata": {},
   "outputs": [],
   "source": [
    "import tensorflow as tf\n",
    "from tensorflow.keras.models import Sequential\n",
    "from tensorflow.keras.layers import LSTM, Dense\n",
    "\n",
    "# Load preprocessed LSTM data\n",
    "X = np.load(\"./models/LSTM_X_No_Indicators.npy\")\n",
    "y = np.load(\"./models/LSTM_y_No_Indicators.npy\")\n",
    "\n",
    "# Split data (80% train, 20% test)\n",
    "split = int(0.8 * len(X))\n",
    "train_X, test_X = X[:split], X[split:]\n",
    "train_y, test_y = y[:split], y[split:]\n",
    "\n",
    "# Define LSTM model\n",
    "model = Sequential([\n",
    "    LSTM(50, return_sequences=True, input_shape=(1, train_X.shape[2])),\n",
    "    LSTM(50),\n",
    "    Dense(1)\n",
    "])\n",
    "\n",
    "# Compile model\n",
    "model.compile(optimizer='adam', loss='mse')\n",
    "\n",
    "# Train model\n",
    "model.fit(train_X, train_y, epochs=50, batch_size=16, verbose=1)\n",
    "\n",
    "# Save trained model\n",
    "model.save(\"./models/LSTM_No_Indicators.keras\")"
   ]
  },
  {
   "cell_type": "code",
   "execution_count": null,
   "metadata": {},
   "outputs": [],
   "source": [
    "# Load model\n",
    "model = tf.keras.models.load_model(\"./models/LSTM_No_Indicators.keras\")\n",
    "\n",
    "# Make predictions\n",
    "predictions = model.predict(test_X)\n",
    "\n",
    "# Inverse transform predictions\n",
    "predictions = scaler.inverse_transform(predictions)\n",
    "actuals = scaler.inverse_transform(test_y.reshape(-1, 1))\n",
    "\n",
    "# Compute MAE and RMSE\n",
    "mae_lstm = np.mean(np.abs(actuals - predictions))\n",
    "rmse_lstm = np.sqrt(np.mean((actuals - predictions) ** 2))\n",
    "\n",
    "print(f\"LSTM (No Indicators) - MAE: {mae_lstm:.4f}, RMSE: {rmse_lstm:.4f}\")\n",
    "\n",
    "test_dates = pd.read_parquet(\"./models/RandomForest_No_Indicators.parquet\")[\"Date\"]  # Ensure the dates align\n",
    "\n",
    "# Create DataFrame for LSTM predictions\n",
    "lstm_forecast_df = pd.DataFrame({'Date': test_dates, 'Actual': actuals.flatten(), 'Predicted': predictions.flatten()})\n",
    "\n",
    "# Save to Parquet for visualization\n",
    "lstm_forecast_df.to_parquet(\"./models/LSTM_No_Indicators_Predictions.parquet\", index=False)\n",
    "\n",
    "print(\"\\n\", lstm_forecast_df.head())  # Confirm data structure"
   ]
  },
  {
   "cell_type": "markdown",
   "metadata": {},
   "source": [
    "#### 1.2 LSTM with Indicators"
   ]
  },
  {
   "cell_type": "code",
   "execution_count": null,
   "metadata": {},
   "outputs": [],
   "source": [
    "# Load dataset with indicators\n",
    "data_with_ind = pd.read_parquet(\"./stock_data/Processed_Stock_Data_with_Indicators.parquet\")\n",
    "\n",
    "# Define features & target\n",
    "features_with_ind = ['Close_Lag_1', 'Close_Lag_2', 'Volume', 'RSI', 'EMA_10', 'SMA_10', 'MACD']\n",
    "target = 'Close'\n",
    "\n",
    "# Scale data between 0 and 1\n",
    "scaler = MinMaxScaler()\n",
    "data_with_ind[features_with_ind] = scaler.fit_transform(data_with_ind[features_with_ind])\n",
    "data_with_ind[target] = scaler.fit_transform(data_with_ind[[target]])\n",
    "\n",
    "# Convert to numpy arrays\n",
    "X, y = data_with_ind[features_with_ind].values, data_with_ind[target].values\n",
    "\n",
    "# Reshape for LSTM\n",
    "X = X.reshape((X.shape[0], 1, X.shape[1]))\n",
    "\n",
    "# Save processed data\n",
    "np.save(\"./models/LSTM_X_With_Indicators.npy\", X)\n",
    "np.save(\"./models/LSTM_y_With_Indicators.npy\", y)\n",
    "\n",
    "print(f\"LSTM Data Shape (With Indicators): {X.shape}, {y.shape}\")\n"
   ]
  },
  {
   "cell_type": "code",
   "execution_count": null,
   "metadata": {},
   "outputs": [],
   "source": [
    "# Load preprocessed data\n",
    "X = np.load(\"./models/LSTM_X_With_Indicators.npy\")\n",
    "y = np.load(\"./models/LSTM_y_With_Indicators.npy\")\n",
    "\n",
    "# Split data (80% train, 20% test)\n",
    "split = int(0.8 * len(X))\n",
    "train_X, test_X = X[:split], X[split:]\n",
    "train_y, test_y = y[:split], y[split:]\n",
    "\n",
    "# Define LSTM model\n",
    "model = Sequential([\n",
    "    LSTM(50, return_sequences=True, input_shape=(1, train_X.shape[2])),\n",
    "    LSTM(50),\n",
    "    Dense(1)\n",
    "])\n",
    "\n",
    "# Compile model\n",
    "model.compile(optimizer='adam', loss='mse')\n",
    "\n",
    "# Train model\n",
    "model.fit(train_X, train_y, epochs=50, batch_size=16, verbose=1)\n",
    "\n",
    "# Save trained model\n",
    "model.save(\"./models/LSTM_With_Indicators.keras\")"
   ]
  },
  {
   "cell_type": "code",
   "execution_count": null,
   "metadata": {},
   "outputs": [],
   "source": [
    "# Load model\n",
    "model = tf.keras.models.load_model(\"./models/LSTM_With_Indicators.keras\")\n",
    "\n",
    "# Make predictions\n",
    "predictions = model.predict(test_X)\n",
    "\n",
    "# Inverse transform predictions\n",
    "predictions = scaler.inverse_transform(predictions)\n",
    "actuals = scaler.inverse_transform(test_y.reshape(-1, 1))\n",
    "\n",
    "# Compute MAE and RMSE\n",
    "mae_lstm_ind = np.mean(np.abs(actuals - predictions))\n",
    "rmse_lstm_ind = np.sqrt(np.mean((actuals - predictions) ** 2))\n",
    "\n",
    "print(f\"LSTM (With Indicators) - MAE: {mae_lstm_ind:.4f}, RMSE: {rmse_lstm_ind:.4f}\")\n",
    "\n",
    "# Create DataFrame for LSTM predictions\n",
    "lstm_forecast_df = pd.DataFrame({'Date': test_dates, 'Actual': actuals.flatten(), 'Predicted': predictions.flatten()})\n",
    "\n",
    "# Save to Parquet for visualization\n",
    "lstm_forecast_df.to_parquet(\"./models/LSTM_with_Indicators_Predictions.parquet\", index=False)\n",
    "\n",
    "print(\"\\n\", lstm_forecast_df.head())  # Confirm data structure"
   ]
  }
 ],
 "metadata": {
  "kernelspec": {
   "display_name": ".venv",
   "language": "python",
   "name": "python3"
  },
  "language_info": {
   "codemirror_mode": {
    "name": "ipython",
    "version": 3
   },
   "file_extension": ".py",
   "mimetype": "text/x-python",
   "name": "python",
   "nbconvert_exporter": "python",
   "pygments_lexer": "ipython3",
   "version": "3.12.1"
  }
 },
 "nbformat": 4,
 "nbformat_minor": 2
}
