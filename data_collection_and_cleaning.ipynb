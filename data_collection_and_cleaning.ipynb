{
 "cells": [
  {
   "cell_type": "markdown",
   "metadata": {},
   "source": [
    "## 1. Data Collection"
   ]
  },
  {
   "cell_type": "code",
   "execution_count": 43,
   "metadata": {},
   "outputs": [],
   "source": [
    "import yfinance as yf\n",
    "import pandas as pd"
   ]
  },
  {
   "cell_type": "code",
   "execution_count": 44,
   "metadata": {},
   "outputs": [
    {
     "name": "stderr",
     "output_type": "stream",
     "text": [
      "[*********************100%***********************]  1 of 1 completed"
     ]
    },
    {
     "name": "stdout",
     "output_type": "stream",
     "text": [
      "           Date        Open        High         Low       Close    Volume\n",
      "3769 2024-12-24  255.209412  257.926411  255.009620  257.916443  23234700\n",
      "3770 2024-12-26  257.906429  259.814335  257.347047  258.735504  27237100\n",
      "3771 2024-12-27  257.546826  258.415896  252.782075  255.309296  42355300\n",
      "3772 2024-12-30  251.952985  253.221595  250.474615  251.923019  35557500\n",
      "3773 2024-12-31  252.162760  253.001833  249.156056  250.144974  39480700\n"
     ]
    },
    {
     "name": "stderr",
     "output_type": "stream",
     "text": [
      "\n"
     ]
    }
   ],
   "source": [
    "# Function to fetch stock data\n",
    "def fetch_stock_data(ticker, start=\"2010-01-01\", end=\"2025-01-01\"):\n",
    "    data = yf.download(ticker, start=start, end=end, multi_level_index=False)\n",
    "    data = data[['Open', 'High', 'Low', 'Close', 'Volume']]\n",
    "    data.reset_index(inplace=True)  # Ensure Date is a column\n",
    "    return data\n",
    "\n",
    "# Example usage - Replace \"AAPL\" with any stock symbol\n",
    "stock_symbol = \"AAPL\"  # You can change this to any stock\n",
    "data = fetch_stock_data(stock_symbol)\n",
    "\n",
    "# Save to CSV (Optional)\n",
    "data.to_parquet(f\"./stock_data/{stock_symbol}_stock_data.parquet\", index=False)\n",
    "\n",
    "# Display first few rows\n",
    "print(data.tail())"
   ]
  },
  {
   "cell_type": "markdown",
   "metadata": {},
   "source": [
    "## 2. Data Integrity and Verification"
   ]
  },
  {
   "cell_type": "code",
   "execution_count": 45,
   "metadata": {},
   "outputs": [
    {
     "name": "stdout",
     "output_type": "stream",
     "text": [
      "Date      0\n",
      "Open      0\n",
      "High      0\n",
      "Low       0\n",
      "Close     0\n",
      "Volume    0\n",
      "dtype: int64\n",
      "           Date        Open        High         Low       Close    Volume\n",
      "3769 2024-12-24  255.209412  257.926411  255.009620  257.916443  23234700\n",
      "3770 2024-12-26  257.906429  259.814335  257.347047  258.735504  27237100\n",
      "3771 2024-12-27  257.546826  258.415896  252.782075  255.309296  42355300\n",
      "3772 2024-12-30  251.952985  253.221595  250.474615  251.923019  35557500\n",
      "3773 2024-12-31  252.162760  253.001833  249.156056  250.144974  39480700\n"
     ]
    }
   ],
   "source": [
    "print(data.isnull().sum())  # Check missing values\n",
    "\n",
    "print(data.tail())"
   ]
  },
  {
   "cell_type": "code",
   "execution_count": 46,
   "metadata": {},
   "outputs": [
    {
     "data": {
      "text/plain": [
       "Date      datetime64[ns]\n",
       "Open             float64\n",
       "High             float64\n",
       "Low              float64\n",
       "Close            float64\n",
       "Volume             int64\n",
       "dtype: object"
      ]
     },
     "execution_count": 46,
     "metadata": {},
     "output_type": "execute_result"
    }
   ],
   "source": [
    "data.dtypes  # Check data types "
   ]
  },
  {
   "cell_type": "code",
   "execution_count": 47,
   "metadata": {},
   "outputs": [],
   "source": [
    "# Ensure Date remains intact\n",
    "data = data.set_index('Date')  # Set Date as index before cleaning\n",
    "\n",
    "# Remove duplicates and invalid prices\n",
    "data = data.drop_duplicates()\n",
    "data = data[data['Close'] > 0]\n",
    "\n",
    "# Restore Date as a column\n",
    "data = data.reset_index()  # Reset index, bringing back Date column"
   ]
  },
  {
   "cell_type": "code",
   "execution_count": 48,
   "metadata": {},
   "outputs": [],
   "source": [
    "# Sort data by date\n",
    "data = data.sort_values(by='Date', ascending=True)"
   ]
  },
  {
   "cell_type": "code",
   "execution_count": 49,
   "metadata": {},
   "outputs": [
    {
     "name": "stdout",
     "output_type": "stream",
     "text": [
      "<class 'pandas.core.frame.DataFrame'>\n",
      "RangeIndex: 3774 entries, 0 to 3773\n",
      "Data columns (total 6 columns):\n",
      " #   Column  Non-Null Count  Dtype         \n",
      "---  ------  --------------  -----         \n",
      " 0   Date    3774 non-null   datetime64[ns]\n",
      " 1   Open    3774 non-null   float64       \n",
      " 2   High    3774 non-null   float64       \n",
      " 3   Low     3774 non-null   float64       \n",
      " 4   Close   3774 non-null   float64       \n",
      " 5   Volume  3774 non-null   int64         \n",
      "dtypes: datetime64[ns](1), float64(4), int64(1)\n",
      "memory usage: 177.0 KB\n",
      "None\n",
      "\n",
      "\n",
      "                                Date         Open         High          Low  \\\n",
      "count                           3774  3774.000000  3774.000000  3774.000000   \n",
      "mean   2017-07-01 21:42:38.346582016    67.465510    68.176227    66.797248   \n",
      "min              2010-01-04 00:00:00     5.789106     5.898343     5.725309   \n",
      "25%              2013-10-02 06:00:00    17.465267    17.645444    17.316001   \n",
      "50%              2017-07-01 12:00:00    35.354725    35.728740    34.963342   \n",
      "75%              2021-03-31 18:00:00   126.339099   127.999182   124.827834   \n",
      "max              2024-12-31 00:00:00   257.906429   259.814335   257.347047   \n",
      "std                              NaN    65.523835    66.212381    64.904099   \n",
      "\n",
      "             Close        Volume  \n",
      "count  3774.000000  3.774000e+03  \n",
      "mean     67.521690  2.299200e+08  \n",
      "min       5.779477  2.323470e+07  \n",
      "25%      17.461676  8.492275e+07  \n",
      "50%      35.323717  1.403920e+08  \n",
      "75%     126.909637  3.081386e+08  \n",
      "max     258.735504  1.880998e+09  \n",
      "std      65.602672  2.180726e+08  \n"
     ]
    }
   ],
   "source": [
    "print(data.info())  # Check data types\n",
    "print(\"\\n\")\n",
    "print(data.describe())  # Get summary statistics\n",
    "data = data.reset_index(drop=True)\n",
    "\n",
    "data.to_parquet(\"./stock_data/Cleaned_Stock_Data.parquet\", index=False)"
   ]
  },
  {
   "cell_type": "code",
   "execution_count": null,
   "metadata": {},
   "outputs": [],
   "source": []
  }
 ],
 "metadata": {
  "kernelspec": {
   "display_name": "Python 3",
   "language": "python",
   "name": "python3"
  },
  "language_info": {
   "codemirror_mode": {
    "name": "ipython",
    "version": 3
   },
   "file_extension": ".py",
   "mimetype": "text/x-python",
   "name": "python",
   "nbconvert_exporter": "python",
   "pygments_lexer": "ipython3",
   "version": "3.12.1"
  }
 },
 "nbformat": 4,
 "nbformat_minor": 2
}
