{
 "cells": [
  {
   "cell_type": "markdown",
   "metadata": {},
   "source": [
    "## 1. Data Collection"
   ]
  },
  {
   "cell_type": "code",
   "execution_count": null,
   "metadata": {},
   "outputs": [],
   "source": [
    "import yfinance as yf\n",
    "import pandas as pd"
   ]
  },
  {
   "cell_type": "code",
   "execution_count": null,
   "metadata": {},
   "outputs": [],
   "source": [
    "# Function to fetch stock data\n",
    "def fetch_stock_data(ticker, start=\"2010-01-01\", end=\"2025-01-01\"):\n",
    "    data = yf.download(ticker, start=start, end=end, multi_level_index=False)\n",
    "    data = data[['Open', 'High', 'Low', 'Close', 'Volume']]\n",
    "    data.reset_index(inplace=True)  # Ensure Date is a column\n",
    "    return data\n",
    "\n",
    "# Example usage - Replace \"AAPL\" with any stock symbol\n",
    "stock_symbol = \"AAPL\"  # You can change this to any stock\n",
    "data = fetch_stock_data(stock_symbol)\n",
    "\n",
    "# Save to CSV (Optional)\n",
    "data.to_parquet(f\"./stock_data/{stock_symbol}_stock_data.parquet\", index=False)\n",
    "\n",
    "# Display first few rows\n",
    "print(data.tail())"
   ]
  },
  {
   "cell_type": "markdown",
   "metadata": {},
   "source": [
    "## 2. Data Integrity and Verification"
   ]
  },
  {
   "cell_type": "code",
   "execution_count": null,
   "metadata": {},
   "outputs": [],
   "source": [
    "print(data.isnull().sum())  # Check missing values\n",
    "\n",
    "print(data.tail())"
   ]
  },
  {
   "cell_type": "code",
   "execution_count": null,
   "metadata": {},
   "outputs": [],
   "source": [
    "data.dtypes  # Check data types "
   ]
  },
  {
   "cell_type": "code",
   "execution_count": null,
   "metadata": {},
   "outputs": [],
   "source": [
    "# Ensure Date remains intact\n",
    "data = data.set_index('Date')  # Set Date as index before cleaning\n",
    "\n",
    "# Remove duplicates and invalid prices\n",
    "data = data.drop_duplicates()\n",
    "data = data[data['Close'] > 0]\n",
    "\n",
    "# Restore Date as a column\n",
    "data = data.reset_index()  # Reset index, bringing back Date column"
   ]
  },
  {
   "cell_type": "code",
   "execution_count": null,
   "metadata": {},
   "outputs": [],
   "source": [
    "# Sort data by date\n",
    "data = data.sort_values(by='Date', ascending=True)"
   ]
  },
  {
   "cell_type": "code",
   "execution_count": null,
   "metadata": {},
   "outputs": [],
   "source": [
    "print(data.info())  # Check data types\n",
    "print(\"\\n\")\n",
    "print(data.describe())  # Get summary statistics\n",
    "data = data.reset_index(drop=True)\n",
    "\n",
    "data.to_parquet(\"./stock_data/Cleaned_Stock_Data.parquet\", index=False)"
   ]
  },
  {
   "cell_type": "code",
   "execution_count": null,
   "metadata": {},
   "outputs": [],
   "source": []
  }
 ],
 "metadata": {
  "kernelspec": {
   "display_name": "Python 3",
   "language": "python",
   "name": "python3"
  },
  "language_info": {
   "codemirror_mode": {
    "name": "ipython",
    "version": 3
   },
   "file_extension": ".py",
   "mimetype": "text/x-python",
   "name": "python",
   "nbconvert_exporter": "python",
   "pygments_lexer": "ipython3",
   "version": "3.12.1"
  }
 },
 "nbformat": 4,
 "nbformat_minor": 2
}
