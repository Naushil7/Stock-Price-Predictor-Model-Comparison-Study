{
 "cells": [
  {
   "cell_type": "code",
   "execution_count": null,
   "metadata": {},
   "outputs": [],
   "source": [
    "import pandas as pd\n",
    "\n",
    "# Load sentiment data from both sources\n",
    "google_news_df = pd.read_parquet(\"./news_data/Google_News_with_Sentiment.parquet\")\n",
    "yahoo_news_df = pd.read_parquet(\"./news_data/Yahoo_Finance_News_with_Sentiment.parquet\")\n",
    "\n",
    "# Compute daily average sentiment score for each source\n",
    "google_sentiment = google_news_df['sentiment_score'].mean()\n",
    "yahoo_sentiment = yahoo_news_df['sentiment_score'].mean()\n",
    "\n",
    "# Compute overall sentiment score\n",
    "overall_sentiment = (google_sentiment + yahoo_sentiment) / 2\n",
    "\n",
    "# Define Buy/Sell/Hold Recommendation\n",
    "def get_recommendation(sentiment_score):\n",
    "    if sentiment_score > 0.3:\n",
    "        return \"Buy\"\n",
    "    elif sentiment_score < -0.3:\n",
    "        return \"Sell\"\n",
    "    else:\n",
    "        return \"Hold\"\n",
    "\n",
    "# Get recommendation based on overall sentiment\n",
    "recommendation = get_recommendation(overall_sentiment)\n",
    "\n",
    "# Display the result\n",
    "print(f\"Google Sentiment Score: {google_sentiment:.2f}\")\n",
    "print(f\"Yahoo Sentiment Score: {yahoo_sentiment:.2f}\")\n",
    "print(f\"Overall Sentiment Score: {overall_sentiment:.2f}\")\n",
    "print(f\"Trading Recommendation: {recommendation}\")"
   ]
  },
  {
   "cell_type": "code",
   "execution_count": null,
   "metadata": {},
   "outputs": [],
   "source": [
    "# Get best (most positive) and worst (most negative) news\n",
    "best_google_news = google_news_df.loc[google_news_df['sentiment_score'].idxmax()]\n",
    "worst_google_news = google_news_df.loc[google_news_df['sentiment_score'].idxmin()]\n",
    "\n",
    "best_yahoo_news = yahoo_news_df.loc[yahoo_news_df['sentiment_score'].idxmax()]\n",
    "worst_yahoo_news = yahoo_news_df.loc[yahoo_news_df['sentiment_score'].idxmin()]\n",
    "\n",
    "# Display results\n",
    "print(\"\\nBest Google News Article:\")\n",
    "print(f\"Title: {best_google_news['title']}\")\n",
    "print(f\"Sentiment Score: {best_google_news['sentiment_score']:.2f}\")\n",
    "\n",
    "print(\"\\nWorst Google News Article:\")\n",
    "print(f\"Title: {worst_google_news['title']}\")\n",
    "print(f\"Sentiment Score: {worst_google_news['sentiment_score']:.2f}\")\n",
    "\n",
    "print(\"\\nBest Yahoo News Article:\")\n",
    "print(f\"Title: {best_yahoo_news['title']}\")\n",
    "print(f\"Sentiment Score: {best_yahoo_news['sentiment_score']:.2f}\")\n",
    "\n",
    "print(\"\\nWorst Yahoo News Article:\")\n",
    "print(f\"Title: {worst_yahoo_news['title']}\")\n",
    "print(f\"Sentiment Score: {worst_yahoo_news['sentiment_score']:.2f}\")"
   ]
  }
 ],
 "metadata": {
  "kernelspec": {
   "display_name": ".venv",
   "language": "python",
   "name": "python3"
  },
  "language_info": {
   "codemirror_mode": {
    "name": "ipython",
    "version": 3
   },
   "file_extension": ".py",
   "mimetype": "text/x-python",
   "name": "python",
   "nbconvert_exporter": "python",
   "pygments_lexer": "ipython3",
   "version": "3.12.1"
  }
 },
 "nbformat": 4,
 "nbformat_minor": 2
}
