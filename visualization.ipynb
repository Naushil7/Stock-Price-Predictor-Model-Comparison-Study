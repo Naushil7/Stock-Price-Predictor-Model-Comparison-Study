{
 "cells": [
  {
   "cell_type": "markdown",
   "metadata": {},
   "source": [
    "## 1. Model Visualization"
   ]
  },
  {
   "cell_type": "code",
   "execution_count": null,
   "metadata": {},
   "outputs": [],
   "source": [
    "import pandas as pd\n",
    "\n",
    "# Load original stock data (training + testing dataset)\n",
    "stock_data = pd.read_parquet(\"./stock_data/Processed_Stock_Data.parquet\")  # Ensure this is the correct dataset\n",
    "\n",
    "# Identify the correct test start date\n",
    "test_start_date = stock_data[\"Date\"].iloc[-len(pd.read_parquet(\"./models/RandomForest_No_Indicators.parquet\"))]  # Last N rows used for testing\n",
    "\n",
    "print(f\"Detected Test Start Date: {test_start_date}\")"
   ]
  },
  {
   "cell_type": "code",
   "execution_count": null,
   "metadata": {},
   "outputs": [],
   "source": [
    "# Load Random Forest Predictions\n",
    "rf_no_ind_df = pd.read_parquet(\"./models/RandomForest_No_Indicators.parquet\")\n",
    "rf_with_ind_df = pd.read_parquet(\"./models/RandomForest_With_Indicators.parquet\")\n",
    "lstm_no_ind_df = pd.read_parquet(\"./models/LSTM_No_Indicators_Predictions.parquet\")\n",
    "lstm_with_ind_df = pd.read_parquet(\"./models/LSTM_With_Indicators_Predictions.parquet\")\n",
    "\n",
    "# Convert numerical index to datetime\n",
    "rf_no_ind_df[\"Date\"] = pd.date_range(start=test_start_date, periods=len(rf_no_ind_df), freq=\"B\")  # Adjust start date\n",
    "rf_with_ind_df[\"Date\"] = pd.date_range(start=test_start_date, periods=len(rf_with_ind_df), freq=\"B\")\n",
    "lstm_no_ind_df[\"Date\"] = pd.date_range(start=test_start_date, periods=len(lstm_no_ind_df), freq=\"B\")\n",
    "lstm_with_ind_df[\"Date\"] = pd.date_range(start=test_start_date, periods=len(lstm_with_ind_df), freq=\"B\")\n",
    "\n",
    "# Save Updated Data\n",
    "rf_no_ind_df.to_parquet(\"./models/RandomForest_No_Indicators.parquet\", index=False)\n",
    "rf_with_ind_df.to_parquet(\"./models/RandomForest_With_Indicators.parquet\", index=False)\n",
    "lstm_no_ind_df.to_parquet(\"./models/LSTM_No_Indicators_Predictions.parquet\", index=False)\n",
    "lstm_with_ind_df.to_parquet(\"./models/LSTM_With_Indicators_Predictions.parquet\", index=False)\n",
    "\n",
    "print(\"Fixed Date Formats for RF & LSTM\")"
   ]
  },
  {
   "cell_type": "code",
   "execution_count": null,
   "metadata": {},
   "outputs": [],
   "source": [
    "# Load all updated datasets\n",
    "rf_no_ind_df = pd.read_parquet(\"./models/RandomForest_No_Indicators.parquet\")\n",
    "rf_with_ind_df = pd.read_parquet(\"./models/RandomForest_With_Indicators.parquet\")\n",
    "lstm_no_ind_df = pd.read_parquet(\"./models/LSTM_No_Indicators_Predictions.parquet\")\n",
    "lstm_with_ind_df = pd.read_parquet(\"./models/LSTM_With_Indicators_Predictions.parquet\")\n",
    "\n",
    "# Print first few dates to check alignment\n",
    "print(\"Random Forest No Indicators Dates:\", rf_no_ind_df[\"Date\"].head())\n",
    "print(\"Random Forest With Indicators Dates:\", rf_with_ind_df[\"Date\"].head())\n",
    "print(\"LSTM No Indicators Dates:\", lstm_no_ind_df[\"Date\"].head())\n",
    "print(\"LSTM With Indicators Dates:\", lstm_with_ind_df[\"Date\"].head())"
   ]
  },
  {
   "cell_type": "code",
   "execution_count": null,
   "metadata": {},
   "outputs": [],
   "source": [
    "import plotly.graph_objects as go\n",
    "import numpy as np\n",
    "\n",
    "# Load Predictions\n",
    "rf_no_ind_df = pd.read_parquet(\"./models/RandomForest_No_Indicators.parquet\")\n",
    "rf_with_ind_df = pd.read_parquet(\"./models/RandomForest_With_Indicators.parquet\")\n",
    "lstm_no_ind_df = pd.read_parquet(\"./models/LSTM_No_Indicators_Predictions.parquet\")\n",
    "lstm_with_ind_df = pd.read_parquet(\"./models/LSTM_With_Indicators_Predictions.parquet\")\n",
    "\n",
    "# Load Actual Prices\n",
    "actual_prices = rf_no_ind_df[\"Actual\"]\n",
    "test_dates = rf_no_ind_df[\"Date\"]\n"
   ]
  },
  {
   "cell_type": "code",
   "execution_count": null,
   "metadata": {},
   "outputs": [],
   "source": [
    "import plotly.graph_objects as go\n",
    "\n",
    "fig = go.Figure()\n",
    "\n",
    "# Add Actual Prices\n",
    "fig.add_trace(go.Scatter(x=test_dates, y=actual_prices, mode='lines', name='Actual Price', line=dict(color='black')))\n",
    "\n",
    "# Add Predictions\n",
    "fig.add_trace(go.Scatter(x=test_dates, y=rf_no_ind_df[\"Predicted\"], mode='lines', name='RF (No Indicators)', line=dict(dash='dot', color='blue')))\n",
    "fig.add_trace(go.Scatter(x=test_dates, y=rf_with_ind_df[\"Predicted\"], mode='lines', name='RF (With Indicators)', line=dict(dash='dot', color='red')))\n",
    "fig.add_trace(go.Scatter(x=lstm_no_ind_df[\"Date\"], y=lstm_no_ind_df[\"Predicted\"], mode='lines', name='LSTM (No Indicators)', line=dict(dash='dash', color='green')))\n",
    "fig.add_trace(go.Scatter(x=lstm_with_ind_df[\"Date\"], y=lstm_with_ind_df[\"Predicted\"], mode='lines', name='LSTM (With Indicators)', line=dict(dash='dash', color='orange')))\n",
    "\n",
    "# Customize Layout\n",
    "fig.update_layout(title=\"Stock Price Predictions: Actual vs Predicted\",\n",
    "                  xaxis_title=\"Date\",\n",
    "                  yaxis_title=\"Stock Price\")\n",
    "\n",
    "fig.show()"
   ]
  },
  {
   "cell_type": "markdown",
   "metadata": {},
   "source": [
    "## 2. Indicators Visualization"
   ]
  },
  {
   "cell_type": "code",
   "execution_count": null,
   "metadata": {},
   "outputs": [],
   "source": [
    "indicator_data = pd.read_parquet(\"./stock_data/Stock_Data_with_indicators.parquet\")\\\n",
    "\n",
    "indicator_data.head(20)"
   ]
  },
  {
   "cell_type": "code",
   "execution_count": null,
   "metadata": {},
   "outputs": [],
   "source": [
    "from plotly.subplots import make_subplots\n",
    "# Ensure Date is in datetime format\n",
    "indicator_data[\"Date\"] = pd.to_datetime(indicator_data[\"Date\"])\n",
    "\n",
    "# Create subplots (4 rows: Stock Price, RSI, MACD, Moving Averages)\n",
    "fig = make_subplots(rows=3, cols=1, shared_xaxes=True, vertical_spacing=0.08, \n",
    "                    subplot_titles=(\"Stock Price with Moving Averages\", \"RSI with 80-20 Levels\", \"MACD with Signal Line\"))\n",
    "\n",
    "# 1️⃣ Stock Price with Moving Averages\n",
    "fig.add_trace(go.Scatter(x=indicator_data[\"Date\"], y=indicator_data[\"Close\"], mode='lines', name=\"Stock Price\", line=dict(color=\"black\")), row=1, col=1)\n",
    "fig.add_trace(go.Scatter(x=indicator_data[\"Date\"], y=indicator_data[\"SMA_10\"], mode='lines', name=\"SMA (10-day)\", line=dict(color=\"red\")), row=1, col=1)\n",
    "fig.add_trace(go.Scatter(x=indicator_data[\"Date\"], y=indicator_data[\"EMA_10\"], mode='lines', name=\"EMA (10-day)\", line=dict(color=\"green\")), row=1, col=1)\n",
    "\n",
    "# 2️⃣ RSI with 80-20 Levels\n",
    "fig.add_trace(go.Scatter(x=indicator_data[\"Date\"], y=indicator_data[\"RSI\"], mode='lines', name=\"RSI\", line=dict(color=\"blue\")), row=2, col=1)\n",
    "fig.add_hline(y=80, line=dict(color=\"red\", dash=\"dot\"), row=2, col=1)  # Overbought level\n",
    "fig.add_hline(y=20, line=dict(color=\"green\", dash=\"dot\"), row=2, col=1)  # Oversold level\n",
    "\n",
    "# 3️⃣ MACD with Volume Bars\n",
    "fig.add_trace(go.Scatter(x=indicator_data[\"Date\"], y=indicator_data[\"MACD\"], mode='lines', name=\"MACD\", line=dict(color=\"purple\")), row=3, col=1)\n",
    "fig.add_trace(go.Bar(x=indicator_data[\"Date\"], y=indicator_data[\"Volume\"], name=\"Volume\", marker_color=\"green\", opacity=0.4), row=3, col=1)\n",
    "\n",
    "fig.update_layout(\n",
    "    title=\"Technical Indicators Segregated with Time Range Filter\",\n",
    "    height=900,\n",
    "    xaxis=dict(\n",
    "        rangeselector=dict(\n",
    "            buttons=list([\n",
    "                dict(count=1, label=\"1D\", step=\"day\", stepmode=\"backward\"),\n",
    "                dict(count=3, label=\"3D\", step=\"day\", stepmode=\"backward\"),\n",
    "                dict(count=7, label=\"1W\", step=\"day\", stepmode=\"backward\"),\n",
    "                dict(count=1, label=\"1M\", step=\"month\", stepmode=\"backward\"),\n",
    "                dict(count=6, label=\"6M\", step=\"month\", stepmode=\"backward\"),\n",
    "                dict(count=1, label=\"1Y\", step=\"year\", stepmode=\"backward\"),\n",
    "                dict(step=\"all\", label=\"All\")\n",
    "            ])\n",
    "        ),\n",
    "        type=\"date\"\n",
    "    )\n",
    ")\n",
    "\n",
    "fig.show()"
   ]
  },
  {
   "cell_type": "code",
   "execution_count": null,
   "metadata": {},
   "outputs": [],
   "source": []
  }
 ],
 "metadata": {
  "kernelspec": {
   "display_name": ".venv",
   "language": "python",
   "name": "python3"
  },
  "language_info": {
   "codemirror_mode": {
    "name": "ipython",
    "version": 3
   },
   "file_extension": ".py",
   "mimetype": "text/x-python",
   "name": "python",
   "nbconvert_exporter": "python",
   "pygments_lexer": "ipython3",
   "version": "3.12.1"
  }
 },
 "nbformat": 4,
 "nbformat_minor": 2
}
